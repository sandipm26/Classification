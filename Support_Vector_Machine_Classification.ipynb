{
 "cells": [
  {
   "cell_type": "code",
   "execution_count": 70,
   "id": "a1dd57f5",
   "metadata": {},
   "outputs": [],
   "source": [
    "import numpy as np\n",
    "import pandas as pd\n",
    "import seaborn as sns\n",
    "import matplotlib.pyplot as plt\n",
    "\n",
    "from sklearn.model_selection import train_test_split\n",
    "from sklearn.svm import SVC\n",
    "from sklearn.metrics import confusion_matrix\n",
    "from sklearn.model_selection import validation_curve\n",
    "from sklearn.model_selection import KFold\n",
    "from sklearn.model_selection import cross_val_score\n",
    "from sklearn.model_selection import GridSearchCV"
   ]
  },
  {
   "cell_type": "code",
   "execution_count": 71,
   "id": "cbec7ec8",
   "metadata": {},
   "outputs": [],
   "source": [
    "email_rec = pd.read_csv('Spam.csv')"
   ]
  },
  {
   "cell_type": "code",
   "execution_count": 72,
   "id": "fd0472c5",
   "metadata": {},
   "outputs": [
    {
     "data": {
      "text/html": [
       "<div>\n",
       "<style scoped>\n",
       "    .dataframe tbody tr th:only-of-type {\n",
       "        vertical-align: middle;\n",
       "    }\n",
       "\n",
       "    .dataframe tbody tr th {\n",
       "        vertical-align: top;\n",
       "    }\n",
       "\n",
       "    .dataframe thead th {\n",
       "        text-align: right;\n",
       "    }\n",
       "</style>\n",
       "<table border=\"1\" class=\"dataframe\">\n",
       "  <thead>\n",
       "    <tr style=\"text-align: right;\">\n",
       "      <th></th>\n",
       "      <th>word_freq_make</th>\n",
       "      <th>word_freq_address</th>\n",
       "      <th>word_freq_all</th>\n",
       "      <th>word_freq_3d</th>\n",
       "      <th>word_freq_our</th>\n",
       "      <th>word_freq_over</th>\n",
       "      <th>word_freq_remove</th>\n",
       "      <th>word_freq_internet</th>\n",
       "      <th>word_freq_order</th>\n",
       "      <th>word_freq_mail</th>\n",
       "      <th>...</th>\n",
       "      <th>char_freq_;</th>\n",
       "      <th>char_freq_(</th>\n",
       "      <th>char_freq_[</th>\n",
       "      <th>char_freq_!</th>\n",
       "      <th>char_freq_$</th>\n",
       "      <th>char_freq_hash</th>\n",
       "      <th>capital_run_length_average</th>\n",
       "      <th>capital_run_length_longest</th>\n",
       "      <th>capital_run_length_total</th>\n",
       "      <th>spam</th>\n",
       "    </tr>\n",
       "  </thead>\n",
       "  <tbody>\n",
       "    <tr>\n",
       "      <th>0</th>\n",
       "      <td>0.00</td>\n",
       "      <td>0.64</td>\n",
       "      <td>0.64</td>\n",
       "      <td>0.0</td>\n",
       "      <td>0.32</td>\n",
       "      <td>0.00</td>\n",
       "      <td>0.00</td>\n",
       "      <td>0.00</td>\n",
       "      <td>0.00</td>\n",
       "      <td>0.00</td>\n",
       "      <td>...</td>\n",
       "      <td>0.00</td>\n",
       "      <td>0.000</td>\n",
       "      <td>0.0</td>\n",
       "      <td>0.778</td>\n",
       "      <td>0.000</td>\n",
       "      <td>0.000</td>\n",
       "      <td>3.756</td>\n",
       "      <td>61</td>\n",
       "      <td>278</td>\n",
       "      <td>1</td>\n",
       "    </tr>\n",
       "    <tr>\n",
       "      <th>1</th>\n",
       "      <td>0.21</td>\n",
       "      <td>0.28</td>\n",
       "      <td>0.50</td>\n",
       "      <td>0.0</td>\n",
       "      <td>0.14</td>\n",
       "      <td>0.28</td>\n",
       "      <td>0.21</td>\n",
       "      <td>0.07</td>\n",
       "      <td>0.00</td>\n",
       "      <td>0.94</td>\n",
       "      <td>...</td>\n",
       "      <td>0.00</td>\n",
       "      <td>0.132</td>\n",
       "      <td>0.0</td>\n",
       "      <td>0.372</td>\n",
       "      <td>0.180</td>\n",
       "      <td>0.048</td>\n",
       "      <td>5.114</td>\n",
       "      <td>101</td>\n",
       "      <td>1028</td>\n",
       "      <td>1</td>\n",
       "    </tr>\n",
       "    <tr>\n",
       "      <th>2</th>\n",
       "      <td>0.06</td>\n",
       "      <td>0.00</td>\n",
       "      <td>0.71</td>\n",
       "      <td>0.0</td>\n",
       "      <td>1.23</td>\n",
       "      <td>0.19</td>\n",
       "      <td>0.19</td>\n",
       "      <td>0.12</td>\n",
       "      <td>0.64</td>\n",
       "      <td>0.25</td>\n",
       "      <td>...</td>\n",
       "      <td>0.01</td>\n",
       "      <td>0.143</td>\n",
       "      <td>0.0</td>\n",
       "      <td>0.276</td>\n",
       "      <td>0.184</td>\n",
       "      <td>0.010</td>\n",
       "      <td>9.821</td>\n",
       "      <td>485</td>\n",
       "      <td>2259</td>\n",
       "      <td>1</td>\n",
       "    </tr>\n",
       "    <tr>\n",
       "      <th>3</th>\n",
       "      <td>0.00</td>\n",
       "      <td>0.00</td>\n",
       "      <td>0.00</td>\n",
       "      <td>0.0</td>\n",
       "      <td>0.63</td>\n",
       "      <td>0.00</td>\n",
       "      <td>0.31</td>\n",
       "      <td>0.63</td>\n",
       "      <td>0.31</td>\n",
       "      <td>0.63</td>\n",
       "      <td>...</td>\n",
       "      <td>0.00</td>\n",
       "      <td>0.137</td>\n",
       "      <td>0.0</td>\n",
       "      <td>0.137</td>\n",
       "      <td>0.000</td>\n",
       "      <td>0.000</td>\n",
       "      <td>3.537</td>\n",
       "      <td>40</td>\n",
       "      <td>191</td>\n",
       "      <td>1</td>\n",
       "    </tr>\n",
       "    <tr>\n",
       "      <th>4</th>\n",
       "      <td>0.00</td>\n",
       "      <td>0.00</td>\n",
       "      <td>0.00</td>\n",
       "      <td>0.0</td>\n",
       "      <td>0.63</td>\n",
       "      <td>0.00</td>\n",
       "      <td>0.31</td>\n",
       "      <td>0.63</td>\n",
       "      <td>0.31</td>\n",
       "      <td>0.63</td>\n",
       "      <td>...</td>\n",
       "      <td>0.00</td>\n",
       "      <td>0.135</td>\n",
       "      <td>0.0</td>\n",
       "      <td>0.135</td>\n",
       "      <td>0.000</td>\n",
       "      <td>0.000</td>\n",
       "      <td>3.537</td>\n",
       "      <td>40</td>\n",
       "      <td>191</td>\n",
       "      <td>1</td>\n",
       "    </tr>\n",
       "  </tbody>\n",
       "</table>\n",
       "<p>5 rows × 58 columns</p>\n",
       "</div>"
      ],
      "text/plain": [
       "   word_freq_make  word_freq_address  word_freq_all  word_freq_3d  \\\n",
       "0            0.00               0.64           0.64           0.0   \n",
       "1            0.21               0.28           0.50           0.0   \n",
       "2            0.06               0.00           0.71           0.0   \n",
       "3            0.00               0.00           0.00           0.0   \n",
       "4            0.00               0.00           0.00           0.0   \n",
       "\n",
       "   word_freq_our  word_freq_over  word_freq_remove  word_freq_internet  \\\n",
       "0           0.32            0.00              0.00                0.00   \n",
       "1           0.14            0.28              0.21                0.07   \n",
       "2           1.23            0.19              0.19                0.12   \n",
       "3           0.63            0.00              0.31                0.63   \n",
       "4           0.63            0.00              0.31                0.63   \n",
       "\n",
       "   word_freq_order  word_freq_mail  ...  char_freq_;  char_freq_(  \\\n",
       "0             0.00            0.00  ...         0.00        0.000   \n",
       "1             0.00            0.94  ...         0.00        0.132   \n",
       "2             0.64            0.25  ...         0.01        0.143   \n",
       "3             0.31            0.63  ...         0.00        0.137   \n",
       "4             0.31            0.63  ...         0.00        0.135   \n",
       "\n",
       "   char_freq_[  char_freq_!  char_freq_$  char_freq_hash  \\\n",
       "0          0.0        0.778        0.000           0.000   \n",
       "1          0.0        0.372        0.180           0.048   \n",
       "2          0.0        0.276        0.184           0.010   \n",
       "3          0.0        0.137        0.000           0.000   \n",
       "4          0.0        0.135        0.000           0.000   \n",
       "\n",
       "   capital_run_length_average  capital_run_length_longest  \\\n",
       "0                       3.756                          61   \n",
       "1                       5.114                         101   \n",
       "2                       9.821                         485   \n",
       "3                       3.537                          40   \n",
       "4                       3.537                          40   \n",
       "\n",
       "   capital_run_length_total  spam  \n",
       "0                       278     1  \n",
       "1                      1028     1  \n",
       "2                      2259     1  \n",
       "3                       191     1  \n",
       "4                       191     1  \n",
       "\n",
       "[5 rows x 58 columns]"
      ]
     },
     "execution_count": 72,
     "metadata": {},
     "output_type": "execute_result"
    }
   ],
   "source": [
    "email_rec.head()"
   ]
  },
  {
   "cell_type": "code",
   "execution_count": 73,
   "id": "8106e733",
   "metadata": {},
   "outputs": [
    {
     "data": {
      "text/plain": [
       "(4601, 58)"
      ]
     },
     "execution_count": 73,
     "metadata": {},
     "output_type": "execute_result"
    }
   ],
   "source": [
    "email_rec.shape"
   ]
  },
  {
   "cell_type": "code",
   "execution_count": 74,
   "id": "ea5f2fe5",
   "metadata": {},
   "outputs": [
    {
     "name": "stdout",
     "output_type": "stream",
     "text": [
      "<class 'pandas.core.frame.DataFrame'>\n",
      "RangeIndex: 4601 entries, 0 to 4600\n",
      "Data columns (total 58 columns):\n",
      " #   Column                      Non-Null Count  Dtype  \n",
      "---  ------                      --------------  -----  \n",
      " 0   word_freq_make              4601 non-null   float64\n",
      " 1   word_freq_address           4601 non-null   float64\n",
      " 2   word_freq_all               4601 non-null   float64\n",
      " 3   word_freq_3d                4601 non-null   float64\n",
      " 4   word_freq_our               4601 non-null   float64\n",
      " 5   word_freq_over              4601 non-null   float64\n",
      " 6   word_freq_remove            4601 non-null   float64\n",
      " 7   word_freq_internet          4601 non-null   float64\n",
      " 8   word_freq_order             4601 non-null   float64\n",
      " 9   word_freq_mail              4601 non-null   float64\n",
      " 10  word_freq_receive           4601 non-null   float64\n",
      " 11  word_freq_will              4601 non-null   float64\n",
      " 12  word_freq_people            4601 non-null   float64\n",
      " 13  word_freq_report            4601 non-null   float64\n",
      " 14  word_freq_addresses         4601 non-null   float64\n",
      " 15  word_freq_free              4601 non-null   float64\n",
      " 16  word_freq_business          4601 non-null   float64\n",
      " 17  word_freq_email             4601 non-null   float64\n",
      " 18  word_freq_you               4601 non-null   float64\n",
      " 19  word_freq_credit            4601 non-null   float64\n",
      " 20  word_freq_your              4601 non-null   float64\n",
      " 21  word_freq_font              4601 non-null   float64\n",
      " 22  word_freq_000               4601 non-null   float64\n",
      " 23  word_freq_money             4601 non-null   float64\n",
      " 24  word_freq_hp                4601 non-null   float64\n",
      " 25  word_freq_hpl               4601 non-null   float64\n",
      " 26  word_freq_george            4601 non-null   float64\n",
      " 27  word_freq_650               4601 non-null   float64\n",
      " 28  word_freq_lab               4601 non-null   float64\n",
      " 29  word_freq_labs              4601 non-null   float64\n",
      " 30  word_freq_telnet            4601 non-null   float64\n",
      " 31  word_freq_857               4601 non-null   float64\n",
      " 32  word_freq_data              4601 non-null   float64\n",
      " 33  word_freq_415               4601 non-null   float64\n",
      " 34  word_freq_85                4601 non-null   float64\n",
      " 35  word_freq_technology        4601 non-null   float64\n",
      " 36  word_freq_1999              4601 non-null   float64\n",
      " 37  word_freq_parts             4601 non-null   float64\n",
      " 38  word_freq_pm                4601 non-null   float64\n",
      " 39  word_freq_direct            4601 non-null   float64\n",
      " 40  word_freq_cs                4601 non-null   float64\n",
      " 41  word_freq_meeting           4601 non-null   float64\n",
      " 42  word_freq_original          4601 non-null   float64\n",
      " 43  word_freq_project           4601 non-null   float64\n",
      " 44  word_freq_re                4601 non-null   float64\n",
      " 45  word_freq_edu               4601 non-null   float64\n",
      " 46  word_freq_table             4601 non-null   float64\n",
      " 47  word_freq_conference        4601 non-null   float64\n",
      " 48  char_freq_;                 4601 non-null   float64\n",
      " 49  char_freq_(                 4601 non-null   float64\n",
      " 50  char_freq_[                 4601 non-null   float64\n",
      " 51  char_freq_!                 4601 non-null   float64\n",
      " 52  char_freq_$                 4601 non-null   float64\n",
      " 53  char_freq_hash              4601 non-null   float64\n",
      " 54  capital_run_length_average  4601 non-null   float64\n",
      " 55  capital_run_length_longest  4601 non-null   int64  \n",
      " 56  capital_run_length_total    4601 non-null   int64  \n",
      " 57  spam                        4601 non-null   int64  \n",
      "dtypes: float64(55), int64(3)\n",
      "memory usage: 2.0 MB\n"
     ]
    }
   ],
   "source": [
    "email_rec.info()"
   ]
  },
  {
   "cell_type": "code",
   "execution_count": 75,
   "id": "beee186a",
   "metadata": {},
   "outputs": [
    {
     "data": {
      "text/plain": [
       "word_freq_make                0\n",
       "word_freq_address             0\n",
       "word_freq_all                 0\n",
       "word_freq_3d                  0\n",
       "word_freq_our                 0\n",
       "word_freq_over                0\n",
       "word_freq_remove              0\n",
       "word_freq_internet            0\n",
       "word_freq_order               0\n",
       "word_freq_mail                0\n",
       "word_freq_receive             0\n",
       "word_freq_will                0\n",
       "word_freq_people              0\n",
       "word_freq_report              0\n",
       "word_freq_addresses           0\n",
       "word_freq_free                0\n",
       "word_freq_business            0\n",
       "word_freq_email               0\n",
       "word_freq_you                 0\n",
       "word_freq_credit              0\n",
       "word_freq_your                0\n",
       "word_freq_font                0\n",
       "word_freq_000                 0\n",
       "word_freq_money               0\n",
       "word_freq_hp                  0\n",
       "word_freq_hpl                 0\n",
       "word_freq_george              0\n",
       "word_freq_650                 0\n",
       "word_freq_lab                 0\n",
       "word_freq_labs                0\n",
       "word_freq_telnet              0\n",
       "word_freq_857                 0\n",
       "word_freq_data                0\n",
       "word_freq_415                 0\n",
       "word_freq_85                  0\n",
       "word_freq_technology          0\n",
       "word_freq_1999                0\n",
       "word_freq_parts               0\n",
       "word_freq_pm                  0\n",
       "word_freq_direct              0\n",
       "word_freq_cs                  0\n",
       "word_freq_meeting             0\n",
       "word_freq_original            0\n",
       "word_freq_project             0\n",
       "word_freq_re                  0\n",
       "word_freq_edu                 0\n",
       "word_freq_table               0\n",
       "word_freq_conference          0\n",
       "char_freq_;                   0\n",
       "char_freq_(                   0\n",
       "char_freq_[                   0\n",
       "char_freq_!                   0\n",
       "char_freq_$                   0\n",
       "char_freq_hash                0\n",
       "capital_run_length_average    0\n",
       "capital_run_length_longest    0\n",
       "capital_run_length_total      0\n",
       "spam                          0\n",
       "dtype: int64"
      ]
     },
     "execution_count": 75,
     "metadata": {},
     "output_type": "execute_result"
    }
   ],
   "source": [
    "email_rec.isnull().sum()"
   ]
  },
  {
   "cell_type": "code",
   "execution_count": 76,
   "id": "59f7cc11",
   "metadata": {},
   "outputs": [
    {
     "data": {
      "text/plain": [
       "0    2788\n",
       "1    1813\n",
       "Name: spam, dtype: int64"
      ]
     },
     "execution_count": 76,
     "metadata": {},
     "output_type": "execute_result"
    }
   ],
   "source": [
    "email_rec['spam'].value_counts()"
   ]
  },
  {
   "cell_type": "code",
   "execution_count": 77,
   "id": "b2fb550d",
   "metadata": {},
   "outputs": [
    {
     "data": {
      "text/plain": [
       "39.4"
      ]
     },
     "execution_count": 77,
     "metadata": {},
     "output_type": "execute_result"
    }
   ],
   "source": [
    "round((email_rec[email_rec['spam']==1].shape[0]*100)/email_rec.shape[0],2)"
   ]
  },
  {
   "cell_type": "code",
   "execution_count": 78,
   "id": "160ce3a7",
   "metadata": {},
   "outputs": [
    {
     "data": {
      "text/plain": [
       "60.6"
      ]
     },
     "execution_count": 78,
     "metadata": {},
     "output_type": "execute_result"
    }
   ],
   "source": [
    "round((email_rec[email_rec['spam']==0].shape[0]*100)/email_rec.shape[0],2)"
   ]
  },
  {
   "cell_type": "markdown",
   "id": "4aac3ed2",
   "metadata": {},
   "source": [
    "### Data Preparation:"
   ]
  },
  {
   "cell_type": "code",
   "execution_count": 79,
   "id": "1ea21fc3",
   "metadata": {},
   "outputs": [
    {
     "data": {
      "text/html": [
       "<div>\n",
       "<style scoped>\n",
       "    .dataframe tbody tr th:only-of-type {\n",
       "        vertical-align: middle;\n",
       "    }\n",
       "\n",
       "    .dataframe tbody tr th {\n",
       "        vertical-align: top;\n",
       "    }\n",
       "\n",
       "    .dataframe thead th {\n",
       "        text-align: right;\n",
       "    }\n",
       "</style>\n",
       "<table border=\"1\" class=\"dataframe\">\n",
       "  <thead>\n",
       "    <tr style=\"text-align: right;\">\n",
       "      <th></th>\n",
       "      <th>word_freq_make</th>\n",
       "      <th>word_freq_address</th>\n",
       "      <th>word_freq_all</th>\n",
       "      <th>word_freq_3d</th>\n",
       "      <th>word_freq_our</th>\n",
       "      <th>word_freq_over</th>\n",
       "      <th>word_freq_remove</th>\n",
       "      <th>word_freq_internet</th>\n",
       "      <th>word_freq_order</th>\n",
       "      <th>word_freq_mail</th>\n",
       "      <th>...</th>\n",
       "      <th>char_freq_;</th>\n",
       "      <th>char_freq_(</th>\n",
       "      <th>char_freq_[</th>\n",
       "      <th>char_freq_!</th>\n",
       "      <th>char_freq_$</th>\n",
       "      <th>char_freq_hash</th>\n",
       "      <th>capital_run_length_average</th>\n",
       "      <th>capital_run_length_longest</th>\n",
       "      <th>capital_run_length_total</th>\n",
       "      <th>spam</th>\n",
       "    </tr>\n",
       "  </thead>\n",
       "  <tbody>\n",
       "    <tr>\n",
       "      <th>count</th>\n",
       "      <td>4601.000000</td>\n",
       "      <td>4601.000000</td>\n",
       "      <td>4601.000000</td>\n",
       "      <td>4601.000000</td>\n",
       "      <td>4601.000000</td>\n",
       "      <td>4601.000000</td>\n",
       "      <td>4601.000000</td>\n",
       "      <td>4601.000000</td>\n",
       "      <td>4601.000000</td>\n",
       "      <td>4601.000000</td>\n",
       "      <td>...</td>\n",
       "      <td>4601.000000</td>\n",
       "      <td>4601.000000</td>\n",
       "      <td>4601.000000</td>\n",
       "      <td>4601.000000</td>\n",
       "      <td>4601.000000</td>\n",
       "      <td>4601.000000</td>\n",
       "      <td>4601.000000</td>\n",
       "      <td>4601.000000</td>\n",
       "      <td>4601.000000</td>\n",
       "      <td>4601.000000</td>\n",
       "    </tr>\n",
       "    <tr>\n",
       "      <th>mean</th>\n",
       "      <td>0.104553</td>\n",
       "      <td>0.213015</td>\n",
       "      <td>0.280656</td>\n",
       "      <td>0.065425</td>\n",
       "      <td>0.312223</td>\n",
       "      <td>0.095901</td>\n",
       "      <td>0.114208</td>\n",
       "      <td>0.105295</td>\n",
       "      <td>0.090067</td>\n",
       "      <td>0.239413</td>\n",
       "      <td>...</td>\n",
       "      <td>0.038575</td>\n",
       "      <td>0.139030</td>\n",
       "      <td>0.016976</td>\n",
       "      <td>0.269071</td>\n",
       "      <td>0.075811</td>\n",
       "      <td>0.044238</td>\n",
       "      <td>5.191515</td>\n",
       "      <td>52.172789</td>\n",
       "      <td>283.289285</td>\n",
       "      <td>0.394045</td>\n",
       "    </tr>\n",
       "    <tr>\n",
       "      <th>std</th>\n",
       "      <td>0.305358</td>\n",
       "      <td>1.290575</td>\n",
       "      <td>0.504143</td>\n",
       "      <td>1.395151</td>\n",
       "      <td>0.672513</td>\n",
       "      <td>0.273824</td>\n",
       "      <td>0.391441</td>\n",
       "      <td>0.401071</td>\n",
       "      <td>0.278616</td>\n",
       "      <td>0.644755</td>\n",
       "      <td>...</td>\n",
       "      <td>0.243471</td>\n",
       "      <td>0.270355</td>\n",
       "      <td>0.109394</td>\n",
       "      <td>0.815672</td>\n",
       "      <td>0.245882</td>\n",
       "      <td>0.429342</td>\n",
       "      <td>31.729449</td>\n",
       "      <td>194.891310</td>\n",
       "      <td>606.347851</td>\n",
       "      <td>0.488698</td>\n",
       "    </tr>\n",
       "    <tr>\n",
       "      <th>min</th>\n",
       "      <td>0.000000</td>\n",
       "      <td>0.000000</td>\n",
       "      <td>0.000000</td>\n",
       "      <td>0.000000</td>\n",
       "      <td>0.000000</td>\n",
       "      <td>0.000000</td>\n",
       "      <td>0.000000</td>\n",
       "      <td>0.000000</td>\n",
       "      <td>0.000000</td>\n",
       "      <td>0.000000</td>\n",
       "      <td>...</td>\n",
       "      <td>0.000000</td>\n",
       "      <td>0.000000</td>\n",
       "      <td>0.000000</td>\n",
       "      <td>0.000000</td>\n",
       "      <td>0.000000</td>\n",
       "      <td>0.000000</td>\n",
       "      <td>1.000000</td>\n",
       "      <td>1.000000</td>\n",
       "      <td>1.000000</td>\n",
       "      <td>0.000000</td>\n",
       "    </tr>\n",
       "    <tr>\n",
       "      <th>25%</th>\n",
       "      <td>0.000000</td>\n",
       "      <td>0.000000</td>\n",
       "      <td>0.000000</td>\n",
       "      <td>0.000000</td>\n",
       "      <td>0.000000</td>\n",
       "      <td>0.000000</td>\n",
       "      <td>0.000000</td>\n",
       "      <td>0.000000</td>\n",
       "      <td>0.000000</td>\n",
       "      <td>0.000000</td>\n",
       "      <td>...</td>\n",
       "      <td>0.000000</td>\n",
       "      <td>0.000000</td>\n",
       "      <td>0.000000</td>\n",
       "      <td>0.000000</td>\n",
       "      <td>0.000000</td>\n",
       "      <td>0.000000</td>\n",
       "      <td>1.588000</td>\n",
       "      <td>6.000000</td>\n",
       "      <td>35.000000</td>\n",
       "      <td>0.000000</td>\n",
       "    </tr>\n",
       "    <tr>\n",
       "      <th>50%</th>\n",
       "      <td>0.000000</td>\n",
       "      <td>0.000000</td>\n",
       "      <td>0.000000</td>\n",
       "      <td>0.000000</td>\n",
       "      <td>0.000000</td>\n",
       "      <td>0.000000</td>\n",
       "      <td>0.000000</td>\n",
       "      <td>0.000000</td>\n",
       "      <td>0.000000</td>\n",
       "      <td>0.000000</td>\n",
       "      <td>...</td>\n",
       "      <td>0.000000</td>\n",
       "      <td>0.065000</td>\n",
       "      <td>0.000000</td>\n",
       "      <td>0.000000</td>\n",
       "      <td>0.000000</td>\n",
       "      <td>0.000000</td>\n",
       "      <td>2.276000</td>\n",
       "      <td>15.000000</td>\n",
       "      <td>95.000000</td>\n",
       "      <td>0.000000</td>\n",
       "    </tr>\n",
       "    <tr>\n",
       "      <th>75%</th>\n",
       "      <td>0.000000</td>\n",
       "      <td>0.000000</td>\n",
       "      <td>0.420000</td>\n",
       "      <td>0.000000</td>\n",
       "      <td>0.380000</td>\n",
       "      <td>0.000000</td>\n",
       "      <td>0.000000</td>\n",
       "      <td>0.000000</td>\n",
       "      <td>0.000000</td>\n",
       "      <td>0.160000</td>\n",
       "      <td>...</td>\n",
       "      <td>0.000000</td>\n",
       "      <td>0.188000</td>\n",
       "      <td>0.000000</td>\n",
       "      <td>0.315000</td>\n",
       "      <td>0.052000</td>\n",
       "      <td>0.000000</td>\n",
       "      <td>3.706000</td>\n",
       "      <td>43.000000</td>\n",
       "      <td>266.000000</td>\n",
       "      <td>1.000000</td>\n",
       "    </tr>\n",
       "    <tr>\n",
       "      <th>max</th>\n",
       "      <td>4.540000</td>\n",
       "      <td>14.280000</td>\n",
       "      <td>5.100000</td>\n",
       "      <td>42.810000</td>\n",
       "      <td>10.000000</td>\n",
       "      <td>5.880000</td>\n",
       "      <td>7.270000</td>\n",
       "      <td>11.110000</td>\n",
       "      <td>5.260000</td>\n",
       "      <td>18.180000</td>\n",
       "      <td>...</td>\n",
       "      <td>4.385000</td>\n",
       "      <td>9.752000</td>\n",
       "      <td>4.081000</td>\n",
       "      <td>32.478000</td>\n",
       "      <td>6.003000</td>\n",
       "      <td>19.829000</td>\n",
       "      <td>1102.500000</td>\n",
       "      <td>9989.000000</td>\n",
       "      <td>15841.000000</td>\n",
       "      <td>1.000000</td>\n",
       "    </tr>\n",
       "  </tbody>\n",
       "</table>\n",
       "<p>8 rows × 58 columns</p>\n",
       "</div>"
      ],
      "text/plain": [
       "       word_freq_make  word_freq_address  word_freq_all  word_freq_3d  \\\n",
       "count     4601.000000        4601.000000    4601.000000   4601.000000   \n",
       "mean         0.104553           0.213015       0.280656      0.065425   \n",
       "std          0.305358           1.290575       0.504143      1.395151   \n",
       "min          0.000000           0.000000       0.000000      0.000000   \n",
       "25%          0.000000           0.000000       0.000000      0.000000   \n",
       "50%          0.000000           0.000000       0.000000      0.000000   \n",
       "75%          0.000000           0.000000       0.420000      0.000000   \n",
       "max          4.540000          14.280000       5.100000     42.810000   \n",
       "\n",
       "       word_freq_our  word_freq_over  word_freq_remove  word_freq_internet  \\\n",
       "count    4601.000000     4601.000000       4601.000000         4601.000000   \n",
       "mean        0.312223        0.095901          0.114208            0.105295   \n",
       "std         0.672513        0.273824          0.391441            0.401071   \n",
       "min         0.000000        0.000000          0.000000            0.000000   \n",
       "25%         0.000000        0.000000          0.000000            0.000000   \n",
       "50%         0.000000        0.000000          0.000000            0.000000   \n",
       "75%         0.380000        0.000000          0.000000            0.000000   \n",
       "max        10.000000        5.880000          7.270000           11.110000   \n",
       "\n",
       "       word_freq_order  word_freq_mail  ...  char_freq_;  char_freq_(  \\\n",
       "count      4601.000000     4601.000000  ...  4601.000000  4601.000000   \n",
       "mean          0.090067        0.239413  ...     0.038575     0.139030   \n",
       "std           0.278616        0.644755  ...     0.243471     0.270355   \n",
       "min           0.000000        0.000000  ...     0.000000     0.000000   \n",
       "25%           0.000000        0.000000  ...     0.000000     0.000000   \n",
       "50%           0.000000        0.000000  ...     0.000000     0.065000   \n",
       "75%           0.000000        0.160000  ...     0.000000     0.188000   \n",
       "max           5.260000       18.180000  ...     4.385000     9.752000   \n",
       "\n",
       "       char_freq_[  char_freq_!  char_freq_$  char_freq_hash  \\\n",
       "count  4601.000000  4601.000000  4601.000000     4601.000000   \n",
       "mean      0.016976     0.269071     0.075811        0.044238   \n",
       "std       0.109394     0.815672     0.245882        0.429342   \n",
       "min       0.000000     0.000000     0.000000        0.000000   \n",
       "25%       0.000000     0.000000     0.000000        0.000000   \n",
       "50%       0.000000     0.000000     0.000000        0.000000   \n",
       "75%       0.000000     0.315000     0.052000        0.000000   \n",
       "max       4.081000    32.478000     6.003000       19.829000   \n",
       "\n",
       "       capital_run_length_average  capital_run_length_longest  \\\n",
       "count                 4601.000000                 4601.000000   \n",
       "mean                     5.191515                   52.172789   \n",
       "std                     31.729449                  194.891310   \n",
       "min                      1.000000                    1.000000   \n",
       "25%                      1.588000                    6.000000   \n",
       "50%                      2.276000                   15.000000   \n",
       "75%                      3.706000                   43.000000   \n",
       "max                   1102.500000                 9989.000000   \n",
       "\n",
       "       capital_run_length_total         spam  \n",
       "count               4601.000000  4601.000000  \n",
       "mean                 283.289285     0.394045  \n",
       "std                  606.347851     0.488698  \n",
       "min                    1.000000     0.000000  \n",
       "25%                   35.000000     0.000000  \n",
       "50%                   95.000000     0.000000  \n",
       "75%                  266.000000     1.000000  \n",
       "max                15841.000000     1.000000  \n",
       "\n",
       "[8 rows x 58 columns]"
      ]
     },
     "execution_count": 79,
     "metadata": {},
     "output_type": "execute_result"
    }
   ],
   "source": [
    "email_rec.describe()"
   ]
  },
  {
   "cell_type": "code",
   "execution_count": 80,
   "id": "8ba7e92a",
   "metadata": {},
   "outputs": [
    {
     "name": "stdout",
     "output_type": "stream",
     "text": [
      "(4601, 57)\n",
      "(4601,)\n"
     ]
    }
   ],
   "source": [
    "# splitting into X and y\n",
    "X = email_rec.drop('spam',axis=1)\n",
    "y = email_rec['spam'].astype(int)\n",
    "print(X.shape)\n",
    "print(y.shape)"
   ]
  },
  {
   "cell_type": "code",
   "execution_count": 81,
   "id": "d6b2a686",
   "metadata": {},
   "outputs": [],
   "source": [
    "# scaling the features\n",
    "from sklearn.preprocessing import scale\n",
    "X = scale(X)"
   ]
  },
  {
   "cell_type": "code",
   "execution_count": 82,
   "id": "c5d2b574",
   "metadata": {},
   "outputs": [],
   "source": [
    "# split into train and test\n",
    "X_train,X_test,y_train,y_test = train_test_split(X,y,train_size=0.7,random_state=4)"
   ]
  },
  {
   "cell_type": "code",
   "execution_count": 83,
   "id": "14214ad9",
   "metadata": {},
   "outputs": [
    {
     "name": "stdout",
     "output_type": "stream",
     "text": [
      "0.3978260869565217\n",
      "0.38522809558291093\n"
     ]
    }
   ],
   "source": [
    "print(y_train.mean())\n",
    "print(y_test.mean())"
   ]
  },
  {
   "cell_type": "markdown",
   "id": "4c380daf",
   "metadata": {},
   "source": [
    "### Model Building:"
   ]
  },
  {
   "cell_type": "code",
   "execution_count": 84,
   "id": "e51b851d",
   "metadata": {},
   "outputs": [],
   "source": [
    "# Model building using cost C=1\n",
    "model = SVC(C = 1)\n",
    "\n",
    "# fit\n",
    "model.fit(X_train,y_train)\n",
    "\n",
    "# predict\n",
    "y_pred = model.predict(X_test)"
   ]
  },
  {
   "cell_type": "code",
   "execution_count": 85,
   "id": "eb311205",
   "metadata": {},
   "outputs": [
    {
     "data": {
      "text/plain": [
       "array([[811,  38],\n",
       "       [ 61, 471]], dtype=int64)"
      ]
     },
     "execution_count": 85,
     "metadata": {},
     "output_type": "execute_result"
    }
   ],
   "source": [
    "# Evaluate the model using confusion matrix \n",
    "from sklearn import metrics\n",
    "metrics.confusion_matrix(y_true=y_test, y_pred=y_pred)"
   ]
  },
  {
   "cell_type": "code",
   "execution_count": 86,
   "id": "aedd5b62",
   "metadata": {},
   "outputs": [
    {
     "name": "stdout",
     "output_type": "stream",
     "text": [
      "accuracy 0.9283128167994207\n",
      "precision 0.925343811394892\n",
      "recall 0.8853383458646616\n"
     ]
    }
   ],
   "source": [
    "# accuracy\n",
    "print(\"accuracy\", metrics.accuracy_score(y_test, y_pred))\n",
    "\n",
    "# precision\n",
    "print(\"precision\", metrics.precision_score(y_test, y_pred))\n",
    "\n",
    "# recall/sensitivity\n",
    "print(\"recall\", metrics.recall_score(y_test, y_pred))"
   ]
  },
  {
   "cell_type": "code",
   "execution_count": 87,
   "id": "7f830159",
   "metadata": {},
   "outputs": [
    {
     "name": "stdout",
     "output_type": "stream",
     "text": [
      "specificity 0.9552414605418139\n"
     ]
    }
   ],
   "source": [
    "# specificity (% of hams correctly classified)\n",
    "print(\"specificity\", 811/(811+38)) # FN/(FN+TP)"
   ]
  },
  {
   "cell_type": "markdown",
   "id": "8105e924",
   "metadata": {},
   "source": [
    "#### \n",
    "- 92% of all emails are classified correctly\n",
    "- 88.5% of spams are identified correctly (sensitivity/recall)\n",
    "- Specificity, or % of hams classified correctly, is 95%"
   ]
  },
  {
   "cell_type": "markdown",
   "id": "b3e35547",
   "metadata": {},
   "source": [
    "### Hyperparameter Tuning:"
   ]
  },
  {
   "cell_type": "markdown",
   "id": "e565a634",
   "metadata": {},
   "source": [
    "#### K-Fold Cross Validation:\n",
    "##### Let's first run a simple k-fold cross validation to get a sense of the average metrics as computed over multiple folds. the easiest way to do cross-validation is to use the cross_val_score() function."
   ]
  },
  {
   "cell_type": "code",
   "execution_count": 88,
   "id": "e4491098",
   "metadata": {},
   "outputs": [],
   "source": [
    "# Creating kfold object with 5 split\n",
    "folds = KFold(n_splits=5,shuffle=True,random_state=4)\n",
    "\n",
    "# Creating a model with C=1\n",
    "model = SVC(C=1)"
   ]
  },
  {
   "cell_type": "code",
   "execution_count": 89,
   "id": "acf74e3a",
   "metadata": {},
   "outputs": [],
   "source": [
    "# computing the cross-validation scores\n",
    "cv_results = cross_val_score(model,X_train,y_train,cv=folds,scoring='accuracy')"
   ]
  },
  {
   "cell_type": "code",
   "execution_count": 90,
   "id": "b95f7d46",
   "metadata": {},
   "outputs": [
    {
     "name": "stdout",
     "output_type": "stream",
     "text": [
      "[0.91770186 0.94099379 0.92080745 0.93012422 0.93944099]\n",
      "mean accuracy = 0.9298136645962731\n"
     ]
    }
   ],
   "source": [
    "# print 5 accuracies obtained from the 5 folds\n",
    "print(cv_results)\n",
    "print('mean accuracy = {}'.format(cv_results.mean()))"
   ]
  },
  {
   "cell_type": "markdown",
   "id": "847264ac",
   "metadata": {},
   "source": [
    "#### Grid Search to Find Optimal Hyperparameter C:"
   ]
  },
  {
   "cell_type": "markdown",
   "id": "b970c3a1",
   "metadata": {},
   "source": [
    "- K-fold CV helps us compute average metrics over multiple folds, and that is the best indication of the 'test accuracy/other metric scores' we can have.\n",
    "\n",
    "- But we want to use CV to compute the optimal values of hyperparameters (in this case, the cost C is a hyperparameter). This is done using the GridSearchCV() method, which computes metrics (such as accuracy, recall etc.)\n",
    "\n",
    "- In this case, we have only one hyperparameter, though you can have multiple, such as C and gamma in non-linear SVMs. In that case, you need to search through a grid of multiple values of C and gamma to find the optimal combination, and hence the name GridSearchCV."
   ]
  },
  {
   "cell_type": "code",
   "execution_count": 91,
   "id": "b7c0a4fd",
   "metadata": {},
   "outputs": [],
   "source": [
    "# specify range of parameters (C) as a list\n",
    "params = {\"C\": [0.1, 1, 10, 100, 1000]}\n",
    "\n",
    "model = SVC()\n",
    "\n",
    "# set up grid search scheme\n",
    "model_cv = GridSearchCV(estimator=model,param_grid=params,scoring='accuracy',\n",
    "                        cv=folds,verbose=1,return_train_score=True)\n"
   ]
  },
  {
   "cell_type": "code",
   "execution_count": 92,
   "id": "feca64ab",
   "metadata": {},
   "outputs": [
    {
     "name": "stdout",
     "output_type": "stream",
     "text": [
      "Fitting 5 folds for each of 5 candidates, totalling 25 fits\n"
     ]
    },
    {
     "data": {
      "text/plain": [
       "GridSearchCV(cv=KFold(n_splits=5, random_state=4, shuffle=True),\n",
       "             estimator=SVC(), param_grid={'C': [0.1, 1, 10, 100, 1000]},\n",
       "             return_train_score=True, scoring='accuracy', verbose=1)"
      ]
     },
     "execution_count": 92,
     "metadata": {},
     "output_type": "execute_result"
    }
   ],
   "source": [
    "# fit the model - it will fit 5 folds across all values of C\n",
    "model_cv.fit(X_train,y_train)"
   ]
  },
  {
   "cell_type": "code",
   "execution_count": 93,
   "id": "290c9a75",
   "metadata": {},
   "outputs": [
    {
     "data": {
      "text/html": [
       "<div>\n",
       "<style scoped>\n",
       "    .dataframe tbody tr th:only-of-type {\n",
       "        vertical-align: middle;\n",
       "    }\n",
       "\n",
       "    .dataframe tbody tr th {\n",
       "        vertical-align: top;\n",
       "    }\n",
       "\n",
       "    .dataframe thead th {\n",
       "        text-align: right;\n",
       "    }\n",
       "</style>\n",
       "<table border=\"1\" class=\"dataframe\">\n",
       "  <thead>\n",
       "    <tr style=\"text-align: right;\">\n",
       "      <th></th>\n",
       "      <th>mean_fit_time</th>\n",
       "      <th>std_fit_time</th>\n",
       "      <th>mean_score_time</th>\n",
       "      <th>std_score_time</th>\n",
       "      <th>param_C</th>\n",
       "      <th>params</th>\n",
       "      <th>split0_test_score</th>\n",
       "      <th>split1_test_score</th>\n",
       "      <th>split2_test_score</th>\n",
       "      <th>split3_test_score</th>\n",
       "      <th>...</th>\n",
       "      <th>mean_test_score</th>\n",
       "      <th>std_test_score</th>\n",
       "      <th>rank_test_score</th>\n",
       "      <th>split0_train_score</th>\n",
       "      <th>split1_train_score</th>\n",
       "      <th>split2_train_score</th>\n",
       "      <th>split3_train_score</th>\n",
       "      <th>split4_train_score</th>\n",
       "      <th>mean_train_score</th>\n",
       "      <th>std_train_score</th>\n",
       "    </tr>\n",
       "  </thead>\n",
       "  <tbody>\n",
       "    <tr>\n",
       "      <th>0</th>\n",
       "      <td>0.282246</td>\n",
       "      <td>0.057986</td>\n",
       "      <td>0.122680</td>\n",
       "      <td>0.018222</td>\n",
       "      <td>0.1</td>\n",
       "      <td>{'C': 0.1}</td>\n",
       "      <td>0.895963</td>\n",
       "      <td>0.902174</td>\n",
       "      <td>0.906832</td>\n",
       "      <td>0.902174</td>\n",
       "      <td>...</td>\n",
       "      <td>0.905280</td>\n",
       "      <td>0.007795</td>\n",
       "      <td>5</td>\n",
       "      <td>0.912655</td>\n",
       "      <td>0.911879</td>\n",
       "      <td>0.912267</td>\n",
       "      <td>0.911102</td>\n",
       "      <td>0.906056</td>\n",
       "      <td>0.910792</td>\n",
       "      <td>0.002423</td>\n",
       "    </tr>\n",
       "    <tr>\n",
       "      <th>1</th>\n",
       "      <td>0.176329</td>\n",
       "      <td>0.010042</td>\n",
       "      <td>0.082184</td>\n",
       "      <td>0.003859</td>\n",
       "      <td>1</td>\n",
       "      <td>{'C': 1}</td>\n",
       "      <td>0.917702</td>\n",
       "      <td>0.940994</td>\n",
       "      <td>0.920807</td>\n",
       "      <td>0.930124</td>\n",
       "      <td>...</td>\n",
       "      <td>0.929814</td>\n",
       "      <td>0.009440</td>\n",
       "      <td>2</td>\n",
       "      <td>0.951475</td>\n",
       "      <td>0.946040</td>\n",
       "      <td>0.949922</td>\n",
       "      <td>0.946040</td>\n",
       "      <td>0.945652</td>\n",
       "      <td>0.947826</td>\n",
       "      <td>0.002401</td>\n",
       "    </tr>\n",
       "    <tr>\n",
       "      <th>2</th>\n",
       "      <td>0.162166</td>\n",
       "      <td>0.030696</td>\n",
       "      <td>0.067420</td>\n",
       "      <td>0.013683</td>\n",
       "      <td>10</td>\n",
       "      <td>{'C': 10}</td>\n",
       "      <td>0.908385</td>\n",
       "      <td>0.944099</td>\n",
       "      <td>0.933230</td>\n",
       "      <td>0.928571</td>\n",
       "      <td>...</td>\n",
       "      <td>0.930745</td>\n",
       "      <td>0.012368</td>\n",
       "      <td>1</td>\n",
       "      <td>0.975543</td>\n",
       "      <td>0.970885</td>\n",
       "      <td>0.973991</td>\n",
       "      <td>0.968944</td>\n",
       "      <td>0.971273</td>\n",
       "      <td>0.972127</td>\n",
       "      <td>0.002347</td>\n",
       "    </tr>\n",
       "    <tr>\n",
       "      <th>3</th>\n",
       "      <td>0.266887</td>\n",
       "      <td>0.021170</td>\n",
       "      <td>0.071210</td>\n",
       "      <td>0.005110</td>\n",
       "      <td>100</td>\n",
       "      <td>{'C': 100}</td>\n",
       "      <td>0.913043</td>\n",
       "      <td>0.927019</td>\n",
       "      <td>0.936335</td>\n",
       "      <td>0.930124</td>\n",
       "      <td>...</td>\n",
       "      <td>0.928571</td>\n",
       "      <td>0.008562</td>\n",
       "      <td>3</td>\n",
       "      <td>0.989519</td>\n",
       "      <td>0.989907</td>\n",
       "      <td>0.989907</td>\n",
       "      <td>0.988354</td>\n",
       "      <td>0.987966</td>\n",
       "      <td>0.989130</td>\n",
       "      <td>0.000814</td>\n",
       "    </tr>\n",
       "    <tr>\n",
       "      <th>4</th>\n",
       "      <td>0.267291</td>\n",
       "      <td>0.043098</td>\n",
       "      <td>0.055248</td>\n",
       "      <td>0.010983</td>\n",
       "      <td>1000</td>\n",
       "      <td>{'C': 1000}</td>\n",
       "      <td>0.908385</td>\n",
       "      <td>0.931677</td>\n",
       "      <td>0.922360</td>\n",
       "      <td>0.919255</td>\n",
       "      <td>...</td>\n",
       "      <td>0.920497</td>\n",
       "      <td>0.007440</td>\n",
       "      <td>4</td>\n",
       "      <td>0.996118</td>\n",
       "      <td>0.993789</td>\n",
       "      <td>0.994177</td>\n",
       "      <td>0.993789</td>\n",
       "      <td>0.994177</td>\n",
       "      <td>0.994410</td>\n",
       "      <td>0.000872</td>\n",
       "    </tr>\n",
       "  </tbody>\n",
       "</table>\n",
       "<p>5 rows × 21 columns</p>\n",
       "</div>"
      ],
      "text/plain": [
       "   mean_fit_time  std_fit_time  mean_score_time  std_score_time param_C  \\\n",
       "0       0.282246      0.057986         0.122680        0.018222     0.1   \n",
       "1       0.176329      0.010042         0.082184        0.003859       1   \n",
       "2       0.162166      0.030696         0.067420        0.013683      10   \n",
       "3       0.266887      0.021170         0.071210        0.005110     100   \n",
       "4       0.267291      0.043098         0.055248        0.010983    1000   \n",
       "\n",
       "        params  split0_test_score  split1_test_score  split2_test_score  \\\n",
       "0   {'C': 0.1}           0.895963           0.902174           0.906832   \n",
       "1     {'C': 1}           0.917702           0.940994           0.920807   \n",
       "2    {'C': 10}           0.908385           0.944099           0.933230   \n",
       "3   {'C': 100}           0.913043           0.927019           0.936335   \n",
       "4  {'C': 1000}           0.908385           0.931677           0.922360   \n",
       "\n",
       "   split3_test_score  ...  mean_test_score  std_test_score  rank_test_score  \\\n",
       "0           0.902174  ...         0.905280        0.007795                5   \n",
       "1           0.930124  ...         0.929814        0.009440                2   \n",
       "2           0.928571  ...         0.930745        0.012368                1   \n",
       "3           0.930124  ...         0.928571        0.008562                3   \n",
       "4           0.919255  ...         0.920497        0.007440                4   \n",
       "\n",
       "   split0_train_score  split1_train_score  split2_train_score  \\\n",
       "0            0.912655            0.911879            0.912267   \n",
       "1            0.951475            0.946040            0.949922   \n",
       "2            0.975543            0.970885            0.973991   \n",
       "3            0.989519            0.989907            0.989907   \n",
       "4            0.996118            0.993789            0.994177   \n",
       "\n",
       "   split3_train_score  split4_train_score  mean_train_score  std_train_score  \n",
       "0            0.911102            0.906056          0.910792         0.002423  \n",
       "1            0.946040            0.945652          0.947826         0.002401  \n",
       "2            0.968944            0.971273          0.972127         0.002347  \n",
       "3            0.988354            0.987966          0.989130         0.000814  \n",
       "4            0.993789            0.994177          0.994410         0.000872  \n",
       "\n",
       "[5 rows x 21 columns]"
      ]
     },
     "execution_count": 93,
     "metadata": {},
     "output_type": "execute_result"
    }
   ],
   "source": [
    "# results of grid search CV\n",
    "cv_results = pd.DataFrame(model_cv.cv_results_)\n",
    "cv_results"
   ]
  },
  {
   "cell_type": "code",
   "execution_count": 94,
   "id": "4adb8de3",
   "metadata": {},
   "outputs": [
    {
     "data": {
      "image/png": "[encoded data removed]",
      "text/plain": [
       "<Figure size 800x600 with 1 Axes>"
      ]
     },
     "metadata": {},
     "output_type": "display_data"
    }
   ],
   "source": [
    "# plot of C versus train and test scores\n",
    "plt.figure(figsize=(8,6))\n",
    "plt.plot(cv_results['param_C'],cv_results['mean_train_score'])\n",
    "plt.plot(cv_results['param_C'],cv_results['mean_test_score'])\n",
    "plt.xlabel('C')\n",
    "plt.ylabel('Accuracy')\n",
    "plt.legend(['test accuracy', 'train accuracy'], loc='upper left')\n",
    "plt.show()"
   ]
  },
  {
   "cell_type": "markdown",
   "id": "359a0c60",
   "metadata": {},
   "source": [
    "- Though the training accuracy monotonically increases with C, the test accuracy gradually reduces. Thus, we can conclude that higher values of C tend to overfit the model. This is because a high C value aims to classify all training examples correctly (since C is the cost of misclassification - if you impose a high cost on the model, it will avoid misclassifying any points by overfitting the data)."
   ]
  },
  {
   "cell_type": "code",
   "execution_count": 95,
   "id": "a2e91888",
   "metadata": {},
   "outputs": [
    {
     "name": "stdout",
     "output_type": "stream",
     "text": [
      " The highest test accuracy is 0.9307453416149067 at C = 10\n"
     ]
    }
   ],
   "source": [
    "# Let's finally look at the optimal C values found by GridSearchCV.\n",
    "best_score = model_cv.best_score_\n",
    "best_c = model_cv.best_params_['C']\n",
    "\n",
    "print(\" The highest test accuracy is {0} at C = {1}\".format(best_score, best_c))"
   ]
  },
  {
   "cell_type": "markdown",
   "id": "a8f65d74",
   "metadata": {},
   "source": [
    "- Let's now look at the metrics corresponding to C=10."
   ]
  },
  {
   "cell_type": "code",
   "execution_count": 96,
   "id": "fb6b7c76",
   "metadata": {},
   "outputs": [],
   "source": [
    "model = SVC(C=best_c)\n",
    "\n",
    "model.fit(X_train,y_train)\n",
    "\n",
    "y_pred = model.predict(X_test)"
   ]
  },
  {
   "cell_type": "code",
   "execution_count": 97,
   "id": "6d0d5f98",
   "metadata": {},
   "outputs": [
    {
     "name": "stdout",
     "output_type": "stream",
     "text": [
      "accuracy 0.9304851556842868\n",
      "precision 0.9241245136186771\n",
      "recall 0.8928571428571429\n"
     ]
    }
   ],
   "source": [
    "# accuracy\n",
    "print(\"accuracy\", metrics.accuracy_score(y_test, y_pred))\n",
    "\n",
    "# precision\n",
    "print(\"precision\", metrics.precision_score(y_test, y_pred))\n",
    "\n",
    "# recall/sensitivity\n",
    "print(\"recall\", metrics.recall_score(y_test, y_pred))\n"
   ]
  },
  {
   "cell_type": "markdown",
   "id": "b66c2f51",
   "metadata": {},
   "source": [
    "#### Optimising for Other Evaluation Metrics\n",
    "- In this case, we had optimised (tuned) the model based on overall accuracy, though that may not always be the best metric to optimise. For example, if you are concerned more about catching all spams (positives), you may want to maximise TPR or sensitivity/recall. If, on the other hand, you want to avoid classifying hams as spams (so that any important mails don't get into the spam box), you would maximise the TNR or specificity."
   ]
  },
  {
   "cell_type": "code",
   "execution_count": 98,
   "id": "dee8fdcb",
   "metadata": {},
   "outputs": [
    {
     "name": "stdout",
     "output_type": "stream",
     "text": [
      "# Tuning hyper-parameters for accuracy\n",
      " The highest accuracy score is 0.9307453416149067 at C = {'C': 10}\n",
      "\n",
      "\n",
      "# Tuning hyper-parameters for precision\n",
      " The highest precision score is 0.9373311086391073 at C = {'C': 0.1}\n",
      "\n",
      "\n",
      "# Tuning hyper-parameters for recall\n",
      " The highest recall score is 0.8987270122310326 at C = {'C': 10}\n",
      "\n",
      "\n"
     ]
    }
   ],
   "source": [
    "# specify params\n",
    "params = {\"C\": [0.1, 1, 10, 100, 1000]}\n",
    "\n",
    "# specify scores/metrics in an iterable\n",
    "scores = ['accuracy', 'precision', 'recall']\n",
    "\n",
    "for score in scores:\n",
    "    print(\"# Tuning hyper-parameters for {}\".format(score))\n",
    "    \n",
    "    # set up GridSearch for score metric\n",
    "    clf = GridSearchCV(SVC(), \n",
    "                       params, \n",
    "                       cv=folds,\n",
    "                       scoring=score,\n",
    "                       return_train_score=True)\n",
    "    # fit\n",
    "    clf.fit(X_train, y_train)\n",
    "\n",
    "    print(\" The highest {0} score is {1} at C = {2}\".format(score, clf.best_score_, clf.best_params_))\n",
    "    print(\"\\n\")"
   ]
  },
  {
   "cell_type": "code",
   "execution_count": 99,
   "id": "995cb1a9",
   "metadata": {},
   "outputs": [
    {
     "data": {
      "text/plain": [
       "<matplotlib.collections.PathCollection at 0x193aad27288>"
      ]
     },
     "execution_count": 99,
     "metadata": {},
     "output_type": "execute_result"
    },
    {
     "data": {
      "image/png": "[encoded data removed]",
      "text/plain": [
       "<Figure size 640x480 with 1 Axes>"
      ]
     },
     "metadata": {},
     "output_type": "display_data"
    },
    {
     "data": {
      "image/png": "[encoded data removed]",
      "text/plain": [
       "<Figure size 2000x2000 with 1 Axes>"
      ]
     },
     "metadata": {},
     "output_type": "display_data"
    }
   ],
   "source": [
    "import pandas as pd\n",
    "import numpy as np\n",
    "import matplotlib.pyplot as plt\n",
    "M=20\n",
    "x=np.random.uniform(low=10, high=35, size=(200,)) + np.random.normal(loc=2, scale=0.5, size=200)\n",
    "y = np.sqrt(400 - (x-20)**2)+ np.random.normal(loc=20, scale=0.5, size=200)\n",
    "plt.scatter(x,y,color=['green'])\n",
    "plt.figure(figsize=(20,20))\n",
    "p = (x-M)**2\n",
    "q = (y-M)**2\n",
    "plt.scatter(p,q,color=['green'])"
   ]
  },
  {
   "cell_type": "markdown",
   "id": "a0be77c4",
   "metadata": {},
   "source": [
    "### PART 2: Nonlinear Model Building"
   ]
  },
  {
   "cell_type": "code",
   "execution_count": 100,
   "id": "e9190abf",
   "metadata": {},
   "outputs": [],
   "source": [
    "# using rbf kernel, C=1, default value of gamma\n",
    "\n",
    "model = SVC(C = 1, kernel='rbf')\n",
    "model.fit(X_train, y_train)\n",
    "y_pred = model.predict(X_test)"
   ]
  },
  {
   "cell_type": "markdown",
   "id": "2482f1e3",
   "metadata": {},
   "source": [
    "#### Model Evaluation Metrics:"
   ]
  },
  {
   "cell_type": "code",
   "execution_count": 101,
   "id": "4dda401f",
   "metadata": {},
   "outputs": [
    {
     "data": {
      "text/plain": [
       "array([[811,  38],\n",
       "       [ 61, 471]], dtype=int64)"
      ]
     },
     "execution_count": 101,
     "metadata": {},
     "output_type": "execute_result"
    }
   ],
   "source": [
    "# confusion matrix\n",
    "confusion_matrix(y_true=y_test, y_pred=y_pred)"
   ]
  },
  {
   "cell_type": "code",
   "execution_count": 102,
   "id": "fc86704c",
   "metadata": {},
   "outputs": [
    {
     "name": "stdout",
     "output_type": "stream",
     "text": [
      "accuracy 0.9283128167994207\n",
      "precision 0.925343811394892\n",
      "recall 0.8853383458646616\n"
     ]
    }
   ],
   "source": [
    "# accuracy\n",
    "print(\"accuracy\", metrics.accuracy_score(y_test, y_pred))\n",
    "\n",
    "# precision\n",
    "print(\"precision\", metrics.precision_score(y_test, y_pred))\n",
    "\n",
    "# recall/sensitivity\n",
    "print(\"recall\", metrics.recall_score(y_test, y_pred))"
   ]
  },
  {
   "cell_type": "markdown",
   "id": "ec224a78",
   "metadata": {},
   "source": [
    "#### Hyperparameter Tuning:"
   ]
  },
  {
   "cell_type": "code",
   "execution_count": 103,
   "id": "b9d15261",
   "metadata": {},
   "outputs": [
    {
     "name": "stdout",
     "output_type": "stream",
     "text": [
      "Fitting 5 folds for each of 12 candidates, totalling 60 fits\n"
     ]
    },
    {
     "data": {
      "text/plain": [
       "GridSearchCV(cv=KFold(n_splits=5, random_state=4, shuffle=True),\n",
       "             estimator=SVC(),\n",
       "             param_grid=[{'C': [1, 10, 100, 1000],\n",
       "                          'gamma': [0.01, 0.001, 0.0001]}],\n",
       "             return_train_score=True, scoring='accuracy', verbose=1)"
      ]
     },
     "execution_count": 103,
     "metadata": {},
     "output_type": "execute_result"
    }
   ],
   "source": [
    "# creating a KFold object with 5 splits\n",
    "folds = KFold(n_splits=5,shuffle=True,random_state=4)\n",
    "\n",
    "# Specify the range of the hyperparameters\n",
    "hyper_params = [{'gamma':[1e-2, 1e-3, 1e-4],\n",
    "                 'C': [1, 10, 100, 1000]}]\n",
    "\n",
    "# specify model\n",
    "model = SVC(kernel='rbf')\n",
    "\n",
    "# set up GridSearchCV()\n",
    "model_cv = GridSearchCV(estimator = model,\n",
    "                        param_grid = hyper_params,\n",
    "                        scoring = 'accuracy',\n",
    "                        cv = folds,\n",
    "                        verbose = 1,\n",
    "                        return_train_score = True)\n",
    "\n",
    "# fit the model\n",
    "model_cv.fit(X_train,y_train)"
   ]
  },
  {
   "cell_type": "code",
   "execution_count": 104,
   "id": "367c28e3",
   "metadata": {},
   "outputs": [
    {
     "data": {
      "text/html": [
       "<div>\n",
       "<style scoped>\n",
       "    .dataframe tbody tr th:only-of-type {\n",
       "        vertical-align: middle;\n",
       "    }\n",
       "\n",
       "    .dataframe tbody tr th {\n",
       "        vertical-align: top;\n",
       "    }\n",
       "\n",
       "    .dataframe thead th {\n",
       "        text-align: right;\n",
       "    }\n",
       "</style>\n",
       "<table border=\"1\" class=\"dataframe\">\n",
       "  <thead>\n",
       "    <tr style=\"text-align: right;\">\n",
       "      <th></th>\n",
       "      <th>mean_fit_time</th>\n",
       "      <th>std_fit_time</th>\n",
       "      <th>mean_score_time</th>\n",
       "      <th>std_score_time</th>\n",
       "      <th>param_C</th>\n",
       "      <th>param_gamma</th>\n",
       "      <th>params</th>\n",
       "      <th>split0_test_score</th>\n",
       "      <th>split1_test_score</th>\n",
       "      <th>split2_test_score</th>\n",
       "      <th>...</th>\n",
       "      <th>mean_test_score</th>\n",
       "      <th>std_test_score</th>\n",
       "      <th>rank_test_score</th>\n",
       "      <th>split0_train_score</th>\n",
       "      <th>split1_train_score</th>\n",
       "      <th>split2_train_score</th>\n",
       "      <th>split3_train_score</th>\n",
       "      <th>split4_train_score</th>\n",
       "      <th>mean_train_score</th>\n",
       "      <th>std_train_score</th>\n",
       "    </tr>\n",
       "  </thead>\n",
       "  <tbody>\n",
       "    <tr>\n",
       "      <th>0</th>\n",
       "      <td>0.148016</td>\n",
       "      <td>0.008936</td>\n",
       "      <td>0.067624</td>\n",
       "      <td>0.005753</td>\n",
       "      <td>1</td>\n",
       "      <td>0.01</td>\n",
       "      <td>{'C': 1, 'gamma': 0.01}</td>\n",
       "      <td>0.917702</td>\n",
       "      <td>0.939441</td>\n",
       "      <td>0.922360</td>\n",
       "      <td>...</td>\n",
       "      <td>0.929814</td>\n",
       "      <td>0.008528</td>\n",
       "      <td>5</td>\n",
       "      <td>0.943323</td>\n",
       "      <td>0.940994</td>\n",
       "      <td>0.945264</td>\n",
       "      <td>0.937112</td>\n",
       "      <td>0.939829</td>\n",
       "      <td>0.941304</td>\n",
       "      <td>0.002814</td>\n",
       "    </tr>\n",
       "    <tr>\n",
       "      <th>1</th>\n",
       "      <td>0.203849</td>\n",
       "      <td>0.008789</td>\n",
       "      <td>0.095751</td>\n",
       "      <td>0.000653</td>\n",
       "      <td>1</td>\n",
       "      <td>0.001</td>\n",
       "      <td>{'C': 1, 'gamma': 0.001}</td>\n",
       "      <td>0.886646</td>\n",
       "      <td>0.919255</td>\n",
       "      <td>0.899068</td>\n",
       "      <td>...</td>\n",
       "      <td>0.904037</td>\n",
       "      <td>0.013080</td>\n",
       "      <td>10</td>\n",
       "      <td>0.910326</td>\n",
       "      <td>0.903339</td>\n",
       "      <td>0.908773</td>\n",
       "      <td>0.906056</td>\n",
       "      <td>0.904115</td>\n",
       "      <td>0.906522</td>\n",
       "      <td>0.002672</td>\n",
       "    </tr>\n",
       "    <tr>\n",
       "      <th>2</th>\n",
       "      <td>0.314177</td>\n",
       "      <td>0.006672</td>\n",
       "      <td>0.165352</td>\n",
       "      <td>0.003178</td>\n",
       "      <td>1</td>\n",
       "      <td>0.0001</td>\n",
       "      <td>{'C': 1, 'gamma': 0.0001}</td>\n",
       "      <td>0.770186</td>\n",
       "      <td>0.802795</td>\n",
       "      <td>0.791925</td>\n",
       "      <td>...</td>\n",
       "      <td>0.786025</td>\n",
       "      <td>0.015322</td>\n",
       "      <td>12</td>\n",
       "      <td>0.789208</td>\n",
       "      <td>0.779503</td>\n",
       "      <td>0.785326</td>\n",
       "      <td>0.791925</td>\n",
       "      <td>0.788820</td>\n",
       "      <td>0.786957</td>\n",
       "      <td>0.004277</td>\n",
       "    </tr>\n",
       "    <tr>\n",
       "      <th>3</th>\n",
       "      <td>0.127852</td>\n",
       "      <td>0.009513</td>\n",
       "      <td>0.052865</td>\n",
       "      <td>0.004503</td>\n",
       "      <td>10</td>\n",
       "      <td>0.01</td>\n",
       "      <td>{'C': 10, 'gamma': 0.01}</td>\n",
       "      <td>0.909938</td>\n",
       "      <td>0.944099</td>\n",
       "      <td>0.934783</td>\n",
       "      <td>...</td>\n",
       "      <td>0.933230</td>\n",
       "      <td>0.012266</td>\n",
       "      <td>3</td>\n",
       "      <td>0.966227</td>\n",
       "      <td>0.966615</td>\n",
       "      <td>0.967003</td>\n",
       "      <td>0.961568</td>\n",
       "      <td>0.962345</td>\n",
       "      <td>0.964752</td>\n",
       "      <td>0.002308</td>\n",
       "    </tr>\n",
       "    <tr>\n",
       "      <th>4</th>\n",
       "      <td>0.142231</td>\n",
       "      <td>0.009629</td>\n",
       "      <td>0.061033</td>\n",
       "      <td>0.006577</td>\n",
       "      <td>10</td>\n",
       "      <td>0.001</td>\n",
       "      <td>{'C': 10, 'gamma': 0.001}</td>\n",
       "      <td>0.917702</td>\n",
       "      <td>0.934783</td>\n",
       "      <td>0.916149</td>\n",
       "      <td>...</td>\n",
       "      <td>0.928261</td>\n",
       "      <td>0.009491</td>\n",
       "      <td>7</td>\n",
       "      <td>0.937112</td>\n",
       "      <td>0.932453</td>\n",
       "      <td>0.936335</td>\n",
       "      <td>0.935171</td>\n",
       "      <td>0.931289</td>\n",
       "      <td>0.934472</td>\n",
       "      <td>0.002242</td>\n",
       "    </tr>\n",
       "  </tbody>\n",
       "</table>\n",
       "<p>5 rows × 22 columns</p>\n",
       "</div>"
      ],
      "text/plain": [
       "   mean_fit_time  std_fit_time  mean_score_time  std_score_time param_C  \\\n",
       "0       0.148016      0.008936         0.067624        0.005753       1   \n",
       "1       0.203849      0.008789         0.095751        0.000653       1   \n",
       "2       0.314177      0.006672         0.165352        0.003178       1   \n",
       "3       0.127852      0.009513         0.052865        0.004503      10   \n",
       "4       0.142231      0.009629         0.061033        0.006577      10   \n",
       "\n",
       "  param_gamma                     params  split0_test_score  \\\n",
       "0        0.01    {'C': 1, 'gamma': 0.01}           0.917702   \n",
       "1       0.001   {'C': 1, 'gamma': 0.001}           0.886646   \n",
       "2      0.0001  {'C': 1, 'gamma': 0.0001}           0.770186   \n",
       "3        0.01   {'C': 10, 'gamma': 0.01}           0.909938   \n",
       "4       0.001  {'C': 10, 'gamma': 0.001}           0.917702   \n",
       "\n",
       "   split1_test_score  split2_test_score  ...  mean_test_score  std_test_score  \\\n",
       "0           0.939441           0.922360  ...         0.929814        0.008528   \n",
       "1           0.919255           0.899068  ...         0.904037        0.013080   \n",
       "2           0.802795           0.791925  ...         0.786025        0.015322   \n",
       "3           0.944099           0.934783  ...         0.933230        0.012266   \n",
       "4           0.934783           0.916149  ...         0.928261        0.009491   \n",
       "\n",
       "   rank_test_score  split0_train_score  split1_train_score  \\\n",
       "0                5            0.943323            0.940994   \n",
       "1               10            0.910326            0.903339   \n",
       "2               12            0.789208            0.779503   \n",
       "3                3            0.966227            0.966615   \n",
       "4                7            0.937112            0.932453   \n",
       "\n",
       "   split2_train_score  split3_train_score  split4_train_score  \\\n",
       "0            0.945264            0.937112            0.939829   \n",
       "1            0.908773            0.906056            0.904115   \n",
       "2            0.785326            0.791925            0.788820   \n",
       "3            0.967003            0.961568            0.962345   \n",
       "4            0.936335            0.935171            0.931289   \n",
       "\n",
       "   mean_train_score  std_train_score  \n",
       "0          0.941304         0.002814  \n",
       "1          0.906522         0.002672  \n",
       "2          0.786957         0.004277  \n",
       "3          0.964752         0.002308  \n",
       "4          0.934472         0.002242  \n",
       "\n",
       "[5 rows x 22 columns]"
      ]
     },
     "execution_count": 104,
     "metadata": {},
     "output_type": "execute_result"
    }
   ],
   "source": [
    "cv_results = pd.DataFrame(model_cv.cv_results_)\n",
    "cv_results.head()"
   ]
  },
  {
   "cell_type": "code",
   "execution_count": 108,
   "id": "2bc4c48b",
   "metadata": {},
   "outputs": [
    {
     "data": {
      "image/png": "[encoded data removed]",
      "text/plain": [
       "<Figure size 1600x600 with 3 Axes>"
      ]
     },
     "metadata": {},
     "output_type": "display_data"
    }
   ],
   "source": [
    "# converting C to int\n",
    "cv_results['param_C'] = cv_results['param_C'].astype('int')\n",
    "\n",
    "plt.figure(figsize=(16,6))\n",
    "\n",
    "# subplot 1/3\n",
    "plt.subplot(1,3,1)\n",
    "gamma_01 = cv_results[cv_results['param_gamma']==0.01]\n",
    "plt.plot(gamma_01['param_C'],gamma_01['mean_test_score'])\n",
    "plt.plot(gamma_01['param_C'],gamma_01['mean_train_score'])\n",
    "plt.xlabel('C')\n",
    "plt.ylabel('Accuracy')\n",
    "plt.title(\"Gamma=0.01\")\n",
    "plt.ylim([0.80, 1])\n",
    "plt.legend(['test accuracy', 'train accuracy'], loc='upper left')\n",
    "plt.xscale('log')\n",
    "\n",
    "# subplot 2/3\n",
    "plt.subplot(1,3,2)\n",
    "gamma_01 = cv_results[cv_results['param_gamma']==0.001]\n",
    "plt.plot(gamma_01['param_C'],gamma_01['mean_test_score'])\n",
    "plt.plot(gamma_01['param_C'],gamma_01['mean_train_score'])\n",
    "plt.xlabel('C')\n",
    "plt.ylabel('Accuracy')\n",
    "plt.title(\"Gamma=0.001\")\n",
    "plt.ylim([0.80, 1])\n",
    "plt.legend(['test accuracy', 'train accuracy'], loc='upper left')\n",
    "plt.xscale('log')\n",
    "\n",
    "# subplot 3/3\n",
    "plt.subplot(1,3,3)\n",
    "gamma_01 = cv_results[cv_results['param_gamma']==0.0001]\n",
    "plt.plot(gamma_01['param_C'],gamma_01['mean_test_score'])\n",
    "plt.plot(gamma_01['param_C'],gamma_01['mean_train_score'])\n",
    "plt.xlabel('C')\n",
    "plt.ylabel('Accuracy')\n",
    "plt.title(\"Gamma=0.0001\")\n",
    "plt.ylim([0.80, 1])\n",
    "plt.legend(['test accuracy', 'train accuracy'], loc='upper left')\n",
    "plt.xscale('log')\n"
   ]
  },
  {
   "cell_type": "code",
   "execution_count": 109,
   "id": "44b55d20",
   "metadata": {},
   "outputs": [
    {
     "name": "stdout",
     "output_type": "stream",
     "text": [
      "The best test score is 0.9338509316770185 corresponding to hyperparameters {'C': 100, 'gamma': 0.001}\n"
     ]
    }
   ],
   "source": [
    "# printing the optimal accuracy score and hyperparameters\n",
    "best_score = model_cv.best_score_\n",
    "best_hyperparams = model_cv.best_params_\n",
    "\n",
    "print(\"The best test score is {0} corresponding to hyperparameters {1}\".format(best_score, best_hyperparams))"
   ]
  },
  {
   "cell_type": "code",
   "execution_count": null,
   "id": "8aa104b6",
   "metadata": {},
   "outputs": [],
   "source": []
  }
 ],
 "metadata": {
  "kernelspec": {
   "display_name": "Python 3 (ipykernel)",
   "language": "python",
   "name": "python3"
  },
  "language_info": {
   "codemirror_mode": {
    "name": "ipython",
    "version": 3
   },
   "file_extension": ".py",
   "mimetype": "text/x-python",
   "name": "python",
   "nbconvert_exporter": "python",
   "pygments_lexer": "ipython3",
   "version": "3.7.16"
  }
 },
 "nbformat": 4,
 "nbformat_minor": 5
}
